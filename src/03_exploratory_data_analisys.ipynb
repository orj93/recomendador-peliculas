{
 "cells": [
  {
   "cell_type": "markdown",
   "metadata": {},
   "source": [
    "## EDA"
   ]
  },
  {
   "cell_type": "markdown",
   "metadata": {},
   "source": [
    "### Columns Dictionary"
   ]
  },
  {
   "cell_type": "markdown",
   "metadata": {},
   "source": [
    "### Multivariate Analysis"
   ]
  },
  {
   "cell_type": "code",
   "execution_count": null,
   "metadata": {},
   "outputs": [],
   "source": [
    "#Importamos y guardamos el dataframe\n",
    "\n",
    "import pandas as pd\n",
    "\n",
    "RUTA_DATAFRAME = ''\n",
    "\n",
    "df = pd.read_csv(RUTA_DATAFRAME, sep=',')"
   ]
  },
  {
   "cell_type": "code",
   "execution_count": null,
   "metadata": {},
   "outputs": [],
   "source": [
    "df"
   ]
  },
  {
   "cell_type": "markdown",
   "metadata": {},
   "source": [
    "#### Categorical - Categorical"
   ]
  },
  {
   "cell_type": "code",
   "execution_count": null,
   "metadata": {},
   "outputs": [],
   "source": [
    "#Nos quedamos solo con las variables categoricas \n",
    "categoricas = df.select_dtypes(include='object')"
   ]
  },
  {
   "cell_type": "code",
   "execution_count": null,
   "metadata": {},
   "outputs": [],
   "source": [
    "categoricas"
   ]
  },
  {
   "cell_type": "code",
   "execution_count": null,
   "metadata": {},
   "outputs": [],
   "source": [
    "import seaborn as sns\n",
    "import matplotlib.pyplot as plt\n",
    "\n",
    "#Columnas a comparar\n",
    "x_1 = ''\n",
    "hue_1 = ''\n",
    "\n",
    "dodge_plot = True\n",
    "\n",
    "#Tamaño del grafico\n",
    "plt.figure(figsize=(10, 4))\n",
    "\n",
    "# Crear un gráfico de barras apiladas\n",
    "sns.countplot(x=x_1, hue=hue_1, data=categoricas, dodge=dodge_plot)\n",
    "\n",
    "# Girar las letras 45 grados\n",
    "plt.xticks(rotation=45)\n",
    "\n",
    "# Añadir etiquetas a los ejes y un título\n",
    "plt.xlabel(x_1)\n",
    "plt.ylabel('Count')\n",
    "plt.title('Relación entre dos variables categóricas')\n",
    "\n",
    "# Mostrar el gráfico\n",
    "plt.show()"
   ]
  },
  {
   "cell_type": "markdown",
   "metadata": {},
   "source": [
    "#### Categorical - Numerical"
   ]
  },
  {
   "cell_type": "code",
   "execution_count": null,
   "metadata": {},
   "outputs": [],
   "source": [
    "import seaborn as sns\n",
    "import matplotlib.pyplot as plt\n",
    "\n",
    "#Columnas a comparar\n",
    "x_cat = ''\n",
    "y_num = ''\n",
    "\n",
    "hue_cat = ''\n",
    "\n",
    "\n",
    "#Tamaño del grafico\n",
    "plt.figure(figsize=(10, 4))\n",
    "\n",
    "#Crea un grafico de barras por valor\n",
    "\n",
    "if hue_cat != '':\n",
    "    sns.barplot(data = df, x = x_cat, y = y_num, hue = hue_cat, errorbar=('ci', 95))\n",
    "else:\n",
    "    sns.barplot(data = df, x = x_cat, y = y_num, errorbar=('ci', 95))\n",
    "\n",
    "\n",
    "# Girar las letras 45 grados\n",
    "plt.xticks(rotation=45)\n",
    "\n",
    "# Invertir el eje y\n",
    "plt.gca().invert_yaxis()\n",
    "\n",
    "# Añadir etiquetas a los ejes y un título\n",
    "plt.xlabel(x_1)\n",
    "plt.ylabel('Count')\n",
    "plt.title('Relación entre dos variables categóricas')\n",
    "\n",
    "# Mostrar el gráfico\n",
    "plt.show()"
   ]
  },
  {
   "cell_type": "markdown",
   "metadata": {},
   "source": [
    "#### Numerical - Numerical"
   ]
  },
  {
   "cell_type": "markdown",
   "metadata": {},
   "source": [
    "Factoring Categorical Variables"
   ]
  },
  {
   "cell_type": "code",
   "execution_count": null,
   "metadata": {},
   "outputs": [],
   "source": [
    "for c in categoricas:\n",
    "\n",
    "    df[f'{c}_n'] = pd.factorize(df[c])[0]\n"
   ]
  },
  {
   "cell_type": "code",
   "execution_count": null,
   "metadata": {},
   "outputs": [],
   "source": [
    "for c in categoricas:\n",
    "    df[f'{c}_n'] = pd.factorize(df[c])[0]\n",
    "\n",
    "    # Imprimir los valores únicos y sus correspondientes números asignados\n",
    "    print(f'Valores únicos en {c}: {df[c].unique()}')\n",
    "    print(f'Números asignados en {c}_n: {df[f\"{c}_n\"].unique()}')\n",
    "    print('\\n')"
   ]
  },
  {
   "cell_type": "code",
   "execution_count": null,
   "metadata": {},
   "outputs": [],
   "source": [
    "#Invierte de 0 a 1 y de 1 a 0 en una columna\n",
    "\n",
    "df['smoker_n'] = 1 - df['smoker_n']"
   ]
  },
  {
   "cell_type": "code",
   "execution_count": null,
   "metadata": {},
   "outputs": [],
   "source": [
    "all_numericas = df.select_dtypes(include='number')"
   ]
  },
  {
   "cell_type": "code",
   "execution_count": null,
   "metadata": {},
   "outputs": [],
   "source": [
    "all_numericas.columns\n"
   ]
  },
  {
   "cell_type": "code",
   "execution_count": null,
   "metadata": {},
   "outputs": [],
   "source": [
    "#Comparamos dos variables con regplot y heatmap\n",
    "fig, axis = plt.subplot_mosaic([['a1','a2']], figsize = (14, 7))\n",
    "\n",
    "data = all_numericas\n",
    "x_1 = ''\n",
    "y_1 = ''\n",
    "\n",
    "sns.regplot(ax = axis['a1'], data = data, x = x_1, y = y_1)\n",
    "sns.heatmap(data[[x_1, y_1]].corr(), annot = True, fmt = \".2f\", ax = axis['a2'])\n"
   ]
  },
  {
   "cell_type": "code",
   "execution_count": 3,
   "metadata": {},
   "outputs": [],
   "source": [
    "#Creamos el heatmap\n",
    "\n",
    "import seaborn as sns\n",
    "import matplotlib.pyplot as plt\n",
    "\n",
    "fig, axis = plt.subplots(figsize = (15, 10))\n",
    "\n",
    "sns.heatmap((all_numericas.corr()), annot = True, fmt = \".2f\")\n",
    "\n",
    "plt.tight_layout()\n",
    "\n",
    "plt.show()"
   ]
  },
  {
   "cell_type": "code",
   "execution_count": null,
   "metadata": {},
   "outputs": [],
   "source": [
    "#Creamos el pairplot\n",
    "\n",
    "sns.pairplot(df, diag_kind=\"hist\", hue='')"
   ]
  },
  {
   "cell_type": "markdown",
   "metadata": {},
   "source": [
    "### Outliers Analysis"
   ]
  },
  {
   "cell_type": "code",
   "execution_count": null,
   "metadata": {},
   "outputs": [],
   "source": [
    "import pandas as pd\n",
    "\n",
    "\n",
    "dataframe = df\n",
    "valor_outlier = 40\n",
    "columna_outlier = 'bmi'\n",
    "outliers_arriba = True\n",
    "\n",
    "\n",
    "\n",
    "filas_dataframe = len(dataframe)\n",
    "\n",
    "if outliers_arriba:\n",
    "\n",
    "    #Contamos el total de outliers\n",
    "    total_outliers = dataframe[dataframe[columna_outlier] > valor_outlier].count()\n",
    "    total_outliers_count = total_outliers.iloc[0]\n",
    "\n",
    "    #Calculamos el porcentaje de outliers\n",
    "    porcentaje_outlier = total_outliers_count / len(dataframe) * 100\n",
    "    print(f'El numero de outliers en {columna_outlier} que tenemos sobre {valor_outlier} es {total_outliers_count} valores')\n",
    "    print(f'Siendo el {porcentaje_outlier:.2f}% de nuestro dataset de {len(dataframe)} filas')\n",
    "    print(f'Al eliminarlas quedariamos con {filas_dataframe - total_outliers_count} filas')\n",
    "\n",
    "else:\n",
    "\n",
    "    #Contamos el total de outliers\n",
    "    total_outliers = dataframe[dataframe[columna_outlier] < valor_outlier].count()\n",
    "    total_outliers_count = total_outliers.iloc[0]\n",
    "\n",
    "    #Calculamos el porcentaje de outliers\n",
    "    porcentaje_outlier = total_outliers_count / len(dataframe) * 100\n",
    "    print(f'El numero de outliers en {columna_outlier} que tenemos bajo {valor_outlier} es {total_outliers_count} valores')\n",
    "    print(f'Siendo el {porcentaje_outlier:.2f}% de nuestro dataset de {filas_dataframe} filas')\n",
    "    print(f'Al eliminarlas quedariamos con {filas_dataframe - total_outliers_count} filas')\n"
   ]
  },
  {
   "cell_type": "code",
   "execution_count": null,
   "metadata": {},
   "outputs": [],
   "source": [
    "import pandas as pd\n",
    "\n",
    "valor_outlier = 40\n",
    "columna_outlier = 'bmi'\n",
    "\n",
    "# Eliminamos los outliers cuando consideremos\n",
    "# df_sin_outliers = df[df[columna_outlier] <= valor_outlier]\n"
   ]
  },
  {
   "cell_type": "markdown",
   "metadata": {},
   "source": [
    "### Null Value Analysis"
   ]
  },
  {
   "cell_type": "markdown",
   "metadata": {},
   "source": [
    "### Inference of new features"
   ]
  },
  {
   "cell_type": "markdown",
   "metadata": {},
   "source": [
    "### Train - Test Split"
   ]
  },
  {
   "cell_type": "code",
   "execution_count": null,
   "metadata": {},
   "outputs": [],
   "source": [
    "#Dividimos en Train - Tests / Predictoras - Target\n",
    "\n",
    "from sklearn.model_selection import train_test_split\n",
    "\n",
    "size_test= 0.2\n",
    "target = ''\n",
    "\n",
    "X = all_numericas.drop(target,axis=1)\n",
    "y = all_numericas[target]\n",
    "\n",
    "# Usar stratify solo en clasificación, nunca en regresión\n",
    "X_train, X_test, y_train, y_test = train_test_split(X,y, test_size = size_test, random_state = 42, stratify=y)\n"
   ]
  },
  {
   "cell_type": "markdown",
   "metadata": {},
   "source": [
    "### Feature scaling (Normalization)"
   ]
  },
  {
   "cell_type": "code",
   "execution_count": null,
   "metadata": {},
   "outputs": [],
   "source": [
    "from sklearn.preprocessing import StandardScaler\n",
    "from sklearn.preprocessing import MinMaxScaler\n",
    "\n",
    "# Guardamos las columnas\n",
    "X_train_columns = X_train.columns\n",
    "X_test_columns = X_test.columns\n",
    "\n",
    "#Normalizamos las predictoras\n",
    "scaler = StandardScaler()\n",
    "X_train_scaled = scaler.fit_transform(X_train)\n",
    "X_test_scaled = scaler.fit_transform(X_test)\n",
    "\n",
    "#Guardamos los datos normalizados con sus columnas y sus indices\n",
    "X_train_scaled = pd.DataFrame(X_train_scaled, index = X_train.index, columns = X_train_columns)\n",
    "X_test_scaled = pd.DataFrame(X_test_scaled, index = X_test.index, columns = X_train_columns)\n"
   ]
  },
  {
   "cell_type": "code",
   "execution_count": null,
   "metadata": {},
   "outputs": [],
   "source": [
    "import pickle\n",
    "\n",
    "#Cambiar el objeto por el que queramos guardar\n",
    "objeto = scaler\n",
    "\n",
    "ruta_guardado = '../models/scaler.pkl'\n",
    "\n",
    "with open(ruta_guardado, \"wb\") as archivo:\n",
    "    pickle.dump(objeto, archivo)"
   ]
  },
  {
   "cell_type": "code",
   "execution_count": null,
   "metadata": {},
   "outputs": [],
   "source": [
    "# save as csv\n",
    "\n",
    "# Con Index = False, no guardamos el indice en el archivo resultante\n",
    "X_train.to_csv(\"../data/processed/X_train.csv\", index=False)\n",
    "X_test.to_csv(\"../data/processed/X_test.csv\", index=False)\n",
    "X_train_scaled.to_csv(\"../data/processed/X_train_scaled.csv\", index=False)\n",
    "X_test_scaled.to_csv(\"../data/processed/X_test_scaled.csv\", index=False)\n",
    "\n",
    "y_train.to_csv(\"../data/processed/y_train.csv\", index=False)\n",
    "y_test.to_csv(\"../data/processed/y_test.csv\", index=False)\n"
   ]
  }
 ],
 "metadata": {
  "kernelspec": {
   "display_name": "venv",
   "language": "python",
   "name": "python3"
  },
  "language_info": {
   "codemirror_mode": {
    "name": "ipython",
    "version": 3
   },
   "file_extension": ".py",
   "mimetype": "text/x-python",
   "name": "python",
   "nbconvert_exporter": "python",
   "pygments_lexer": "ipython3",
   "version": "3.11.6"
  }
 },
 "nbformat": 4,
 "nbformat_minor": 2
}
