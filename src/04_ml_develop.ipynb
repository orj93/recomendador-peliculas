{
 "cells": [
  {
   "cell_type": "markdown",
   "metadata": {},
   "source": [
    "## Machine Learning Develop"
   ]
  },
  {
   "cell_type": "markdown",
   "metadata": {},
   "source": [
    "#### We create a dataset to store the accuracies"
   ]
  },
  {
   "cell_type": "code",
   "execution_count": null,
   "metadata": {},
   "outputs": [],
   "source": [
    "import pandas as pd\n",
    "\n",
    "accuracy_saves = pd.DataFrame(columns=['Modelo', 'Accuracy'])\n",
    "\n",
    "def guardar_accuracy(modelo,accuracy):\n",
    "\n",
    "    # Accedo a la variable accuracy saves donde guardaremos los resultados\n",
    "    global accuracy_saves\n",
    "    \n",
    "    accuracy_saves.loc[len(accuracy_saves.index)] = [modelo, accuracy]\n",
    "\n",
    "\n",
    "def actualizar_accuracy(modelo,accuracy):\n",
    "    \n",
    "    # Accedo a la variable accuracy saves donde actualizaremos los resultados\n",
    "    global accuracy_saves\n",
    "    accuracy_saves.loc[accuracy_saves['Modelo'] == modelo, 'Accuracy'] = accuracy"
   ]
  },
  {
   "cell_type": "markdown",
   "metadata": {},
   "source": [
    "### We see the data again and the values"
   ]
  },
  {
   "cell_type": "markdown",
   "metadata": {},
   "source": [
    "Make a parsedict for the categorical data"
   ]
  },
  {
   "cell_type": "markdown",
   "metadata": {},
   "source": [
    "### SelectKBeasts "
   ]
  },
  {
   "cell_type": "code",
   "execution_count": null,
   "metadata": {},
   "outputs": [],
   "source": [
    "from sklearn.feature_selection import SelectKBest\n",
    "from sklearn.feature_selection import f_classif, f_regression\n",
    "from sklearn.metrics import accuracy_score, r2_score\n",
    "import warnings\n",
    "\n",
    "predictora = X_train_scaled\n",
    "target = y_train\n",
    "\n",
    "clasificador_escogido = f_regression\n",
    "modelo_escogido = LinearRegression()\n",
    "\n",
    "clasificacion = False\n",
    "\n",
    "# Tras este codigo tendremos una predictora 'X_selected' con las mejores\n",
    "#   columnas seleccionadas\n",
    "#-----------------\n",
    "\n",
    "with warnings.catch_warnings():\n",
    "    warnings.simplefilter(\"ignore\")\n",
    "\n",
    "    accs = []\n",
    "    percents = [1, 0.9, 0.8, 0.7, 0.6, 0.5]\n",
    "    for p in percents:\n",
    "\n",
    "        k_best = SelectKBest(clasificador_escogido, k = int(len(predictora.columns) * p))\n",
    "        k_best.fit(predictora, target)\n",
    "\n",
    "        # Guardamos las columnas con su nombre y su dataframe\n",
    "        ix = k_best.get_support()\n",
    "        train_sel = pd.DataFrame(k_best.transform(predictora), columns = X_train_scaled.columns.values[ix])\n",
    "        \n",
    "        if clasificacion:\n",
    "\n",
    "            # Definir el clasificador\n",
    "            model = modelo_escogido\n",
    "            model.fit(train_sel, target)\n",
    "            y_pred = model.predict(train_sel)\n",
    "            acc = accuracy_score(target, y_pred)\n",
    "            accs.append(acc)\n",
    "\n",
    "        else:\n",
    "\n",
    "            # Definir el regresor\n",
    "            model = modelo_escogido\n",
    "            model.fit(train_sel, target)\n",
    "            y_pred = model.predict(train_sel)\n",
    "            acc = r2_score(target.values, y_pred)\n",
    "            accs.append(acc)\n",
    "        \n",
    "\n",
    "    best_acc = accs.index(max(accs)) \n",
    "    print(f'The best k for selection is {percents[best_acc]}.')\n",
    "    print(f'The best accuracy we get is {round(accs[best_acc],8)}.')\n",
    "\n",
    "    print(accs)\n",
    "\n",
    "    # Guardamos el dataframe con las columnas escogidas\n",
    "    k_best = SelectKBest(clasificador_escogido, k = int(len(predictora.columns) * percents[best_acc]))\n",
    "    k_best.fit(predictora.values, target.values)\n",
    "\n",
    "    # Guardamos las columnas con su nombre y su dataframe\n",
    "    ix = k_best.get_support()\n",
    "    X_selected = pd.DataFrame(k_best.transform(predictora), columns = predictora.columns.values[ix])\n"
   ]
  }
 ],
 "metadata": {
  "language_info": {
   "name": "python"
  }
 },
 "nbformat": 4,
 "nbformat_minor": 2
}
