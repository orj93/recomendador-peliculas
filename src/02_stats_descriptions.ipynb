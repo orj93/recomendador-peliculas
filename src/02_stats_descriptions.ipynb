{
 "cells": [
  {
   "cell_type": "markdown",
   "metadata": {},
   "source": [
    "## Statistical Description"
   ]
  },
  {
   "cell_type": "code",
   "execution_count": null,
   "metadata": {},
   "outputs": [],
   "source": [
    "#Importamos y guardamos el dataframe\n",
    "\n",
    "import pandas as pd\n",
    "\n",
    "RUTA_DATAFRAME = ''\n",
    "\n",
    "df = pd.read_csv(RUTA_DATAFRAME, sep=',')"
   ]
  },
  {
   "cell_type": "code",
   "execution_count": null,
   "metadata": {},
   "outputs": [],
   "source": [
    "df"
   ]
  },
  {
   "cell_type": "markdown",
   "metadata": {},
   "source": [
    "### Null information"
   ]
  },
  {
   "cell_type": "code",
   "execution_count": null,
   "metadata": {},
   "outputs": [],
   "source": [
    "df.info()"
   ]
  },
  {
   "cell_type": "markdown",
   "metadata": {},
   "source": [
    "### Statistical description"
   ]
  },
  {
   "cell_type": "code",
   "execution_count": null,
   "metadata": {},
   "outputs": [],
   "source": [
    "#descripcion estadistica\n",
    "df.describe()"
   ]
  },
  {
   "cell_type": "code",
   "execution_count": null,
   "metadata": {},
   "outputs": [],
   "source": [
    "#numero de filas y columnas\n",
    "print(f'Filas: {df.shape[0]}, Columnas : {df.shape[1]}')"
   ]
  },
  {
   "cell_type": "code",
   "execution_count": null,
   "metadata": {},
   "outputs": [],
   "source": [
    "#nombres columnas\n",
    "print(df.columns)"
   ]
  },
  {
   "cell_type": "code",
   "execution_count": null,
   "metadata": {},
   "outputs": [],
   "source": [
    "#valores unicos en cada columna\n",
    "print(df.nunique())\n"
   ]
  },
  {
   "cell_type": "code",
   "execution_count": null,
   "metadata": {},
   "outputs": [],
   "source": [
    "#Valores unicos por columna\n",
    "\n",
    "numero_minimo = 10\n",
    "\n",
    "for columna in df.columns:\n",
    "    # Verifica si la columna tiene menos de 10 valores únicos\n",
    "    if df[columna].nunique() < numero_minimo:\n",
    "        # Imprime los valores únicos de la columna 'neighbourhood_group'\n",
    "        print(f\"Valores únicos de {columna}: {df[columna].unique()}\")"
   ]
  },
  {
   "cell_type": "markdown",
   "metadata": {},
   "source": [
    "### Surface Cleaning"
   ]
  },
  {
   "cell_type": "code",
   "execution_count": null,
   "metadata": {},
   "outputs": [],
   "source": [
    "#Copiamos el dataframe para no ser destructivos con los datos\n",
    "clean_df = df.copy()"
   ]
  },
  {
   "cell_type": "code",
   "execution_count": null,
   "metadata": {},
   "outputs": [],
   "source": [
    "#Vemos las columnas que sobran\n",
    "df.head()"
   ]
  },
  {
   "cell_type": "code",
   "execution_count": null,
   "metadata": {},
   "outputs": [],
   "source": [
    "#Eliminamos las columnas que no nos daran valor al ML\n",
    "\n",
    "eliminar =['']\n",
    "\n",
    "#clean_df.drop(eliminar,axis=1,inplace=True)"
   ]
  },
  {
   "cell_type": "markdown",
   "metadata": {},
   "source": [
    "## Univariate Description"
   ]
  },
  {
   "cell_type": "markdown",
   "metadata": {},
   "source": [
    "### Categorical"
   ]
  },
  {
   "cell_type": "code",
   "execution_count": null,
   "metadata": {},
   "outputs": [],
   "source": [
    "#Nos quedamos solo con las variables categoricas \n",
    "categoricas = clean_df.select_dtypes(include='object')"
   ]
  },
  {
   "cell_type": "code",
   "execution_count": null,
   "metadata": {},
   "outputs": [],
   "source": [
    "categoricas"
   ]
  },
  {
   "cell_type": "code",
   "execution_count": null,
   "metadata": {},
   "outputs": [],
   "source": [
    "categoricas.columns"
   ]
  },
  {
   "cell_type": "code",
   "execution_count": null,
   "metadata": {},
   "outputs": [],
   "source": [
    "categoricas.describe()"
   ]
  },
  {
   "cell_type": "code",
   "execution_count": null,
   "metadata": {},
   "outputs": [],
   "source": [
    "#valores unicos en cada columna\n",
    "print(categoricas.nunique())\n"
   ]
  },
  {
   "cell_type": "code",
   "execution_count": null,
   "metadata": {},
   "outputs": [],
   "source": [
    "#Valores unicos por columna\n",
    "\n",
    "numero_minimo = 10\n",
    "\n",
    "for columna in categoricas.columns:\n",
    "    # Verifica si la columna tiene menos de 10 valores únicos\n",
    "    if df[columna].nunique() < numero_minimo:\n",
    "        # Imprime los valores únicos de la columna 'neighbourhood_group'\n",
    "        print(f\"Valores únicos de {columna}: {df[columna].unique()}\")"
   ]
  },
  {
   "cell_type": "code",
   "execution_count": null,
   "metadata": {},
   "outputs": [],
   "source": [
    "# Obtener las columnas que son variables categóricas\n",
    "columnas_categoricas = categoricas.columns\n",
    "\n",
    "# Crear una cadena para almacenar la salida\n",
    "valores_categoricas = \"\"\n",
    "\n",
    "# Iterar a través de las columnas categóricas y contar la frecuencia de cada valor\n",
    "for columna in columnas_categoricas:\n",
    "    frecuencia_categorias = df[columna].value_counts()\n",
    "    valores_categoricas += f\"\\nFrecuencia de valores en la columna {columna}:\\n{frecuencia_categorias}\\n\"\n",
    "\n",
    "# Guardar la salida en un archivo Markdown (.md)\n",
    "with open('../docs/variables_categoricas.md', 'w') as archivo:\n",
    "    archivo.write(valores_categoricas)\n",
    "\n",
    "print('Archivo guardado en /docs/variables_categoricas.md')"
   ]
  },
  {
   "cell_type": "code",
   "execution_count": null,
   "metadata": {},
   "outputs": [],
   "source": [
    "from utils import plot_categorical_histograms\n",
    "\n",
    "## Crea un grafico con subgraficos para cada histograma con el limite de columnas indicado \n",
    "plot_categorical_histograms(categoricas,3)"
   ]
  },
  {
   "cell_type": "markdown",
   "metadata": {},
   "source": [
    "### Numerical"
   ]
  },
  {
   "cell_type": "code",
   "execution_count": null,
   "metadata": {},
   "outputs": [],
   "source": [
    "#Nos quedamos solo con las variables numericas\n",
    "numericas = clean_df.select_dtypes(include='number')"
   ]
  },
  {
   "cell_type": "code",
   "execution_count": null,
   "metadata": {},
   "outputs": [],
   "source": [
    "numericas"
   ]
  },
  {
   "cell_type": "code",
   "execution_count": null,
   "metadata": {},
   "outputs": [],
   "source": [
    "numericas.describe()"
   ]
  },
  {
   "cell_type": "code",
   "execution_count": null,
   "metadata": {},
   "outputs": [],
   "source": [
    "#valores unicos en cada columna\n",
    "print(numericas.nunique())\n"
   ]
  },
  {
   "cell_type": "code",
   "execution_count": null,
   "metadata": {},
   "outputs": [],
   "source": [
    "#Valores unicos por columna\n",
    "\n",
    "numero_minimo = 10\n",
    "\n",
    "for columna in numericas.columns:\n",
    "    # Verifica si la columna tiene menos de 10 valores únicos\n",
    "    if df[columna].nunique() < numero_minimo:\n",
    "        # Imprime los valores únicos de la columna 'neighbourhood_group'\n",
    "        print(f\"Valores únicos de {columna}: {df[columna].unique()}\")"
   ]
  },
  {
   "cell_type": "code",
   "execution_count": null,
   "metadata": {},
   "outputs": [],
   "source": [
    "from utils import plot_numerical_data\n",
    "\n",
    "plot_numerical_data(numericas)"
   ]
  }
 ],
 "metadata": {
  "kernelspec": {
   "display_name": "venv",
   "language": "python",
   "name": "python3"
  },
  "language_info": {
   "codemirror_mode": {
    "name": "ipython",
    "version": 3
   },
   "file_extension": ".py",
   "mimetype": "text/x-python",
   "name": "python",
   "nbconvert_exporter": "python",
   "pygments_lexer": "ipython3",
   "version": "3.11.4"
  }
 },
 "nbformat": 4,
 "nbformat_minor": 2
}
